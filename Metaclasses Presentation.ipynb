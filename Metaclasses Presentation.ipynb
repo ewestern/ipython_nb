{
 "metadata": {
  "name": "Metaclasses Presentation"
 },
 "nbformat": 3,
 "nbformat_minor": 0,
 "worksheets": [
  {
   "cells": [
    {
     "cell_type": "heading",
     "level": 1,
     "metadata": {},
     "source": [
      "Pythonic Fun With Descriptors and Metaclasses"
     ]
    },
    {
     "cell_type": "heading",
     "level": 3,
     "metadata": {},
     "source": [
      "A Problem:"
     ]
    },
    {
     "cell_type": "markdown",
     "metadata": {},
     "source": [
      "Let's say I have an object of type Tree. In some cases I would like to be able to access the tree's height in feet, while other times I definitely need it in meters."
     ]
    },
    {
     "cell_type": "code",
     "collapsed": false,
     "input": [
      "class Tree(object):\n",
      "    pass\n",
      "tree = Tree()\n",
      "tree.meter_height = 5\n",
      "tree.foot_height = tree.meter_height / 3.28"
     ],
     "language": "python",
     "metadata": {},
     "outputs": []
    },
    {
     "cell_type": "markdown",
     "metadata": {},
     "source": [
      "<div style=\"float:left;padding-right:20px\"><img src = \"http://www.americanforests.org/wp-content/uploads/2011/07/Tree-height_11-300x240.gif\" width=\"200\"></div>This can be annoying if I'm going to be, say, updating the tree's height as it grows. What's more, maybe I'd like to add some validation in each of those attributes, so that I can be sure I'm putting in reasonable values. This sounds like a job for descriptors!\n",
      "\n",
      "A Python descriptor is any class with \\__set\\__, \\__get\\__, or \\__delete\\__ magic methods defined. The descriptor objects work like this: If a descriptor object is the value of an attribute on some other object, the value of that attribute will be delivered by the descriptor's \\__get\\__ method.    "
     ]
    },
    {
     "cell_type": "code",
     "collapsed": false,
     "input": [
      "class Meter(object):\n",
      "    _value = 0\n",
      "    def __set__(self, instance, value):\n",
      "        if 0 < value <= 150:\n",
      "            self._value = value\n",
      "        else: raise Exception\n",
      "    def __get__(self, instance, owner):\n",
      "        return self._value\n",
      "\n",
      "class Foot(object):\n",
      "    def __set__(self, instance, value):\n",
      "        if 0 < value <= 350:\n",
      "            instance.meter_height = value * 0.3048\n",
      "        else: raise Exception\n",
      "    def __get__(self, instance, owner):\n",
      "        return instance.meter_height * 3.28084"
     ],
     "language": "python",
     "metadata": {},
     "outputs": [],
     "prompt_number": 47
    },
    {
     "cell_type": "markdown",
     "metadata": {},
     "source": [
      "So let's try redefining our Tree class to use descriptors."
     ]
    },
    {
     "cell_type": "code",
     "collapsed": false,
     "input": [
      "class Tree(object):\n",
      "    meter_height = Meter()\n",
      "    foot_height = Foot()\n",
      "    \n",
      "tree = Tree()\n",
      "tree.foot_height = 10\n",
      "assert tree.meter_height == 3.048\n",
      "tree.meter_height = 10\n",
      "assert tree.foot_height == 32.8084\n"
     ],
     "language": "python",
     "metadata": {},
     "outputs": [],
     "prompt_number": 48
    },
    {
     "cell_type": "markdown",
     "metadata": {},
     "source": [
      "When we set the foot_height attribute to 10, the meter_height was automagically converted to the appropriate value, and vice versa when the meter_height attribute is set.\n",
      "\n",
      "\n",
      "This can be useful in a number of applications, but before getting to those. Let's be destructive! "
     ]
    },
    {
     "cell_type": "code",
     "collapsed": false,
     "input": [
      "from datetime import datetime\n",
      "from time import sleep\n",
      "class Message(object):\n",
      "    _first_access = None\n",
      "    def __init__(self):\n",
      "        self._value = None\n",
      "    def __set__(self, instance, value):\n",
      "        self._value = value\n",
      "    def __get__(self, instance, owner):\n",
      "        if instance:\n",
      "            if not self._first_access:\n",
      "                self._first_access = datetime.now()\n",
      "                print \"This message will self destruct in 5 seconds.\"\n",
      "            else:\n",
      "                if (datetime.now()- self._first_access).seconds > 5:                 \n",
      "                    return boom\n",
      "            return self._value\n"
     ],
     "language": "python",
     "metadata": {},
     "outputs": []
    },
    {
     "cell_type": "markdown",
     "metadata": {},
     "source": [
      "<div style=\"float:right;padding-right:20px;padding-bottom:15px\"><img src=\"http://24.media.tumblr.com/e91e42cb143d862cc06638a32f4dc727/tumblr_mgc4f7eBGM1s0hia6o1_500.gif\"></div>\n",
      "From the [dox](http://docs.python.org/2/reference/datamodel.html#invoking-descriptors):\n",
      ">The default behavior for attribute access is to get, set, or delete the attribute from an object\u2019s dictionary. For instance, a.x has a lookup \n",
      "chain starting with a.\\__dict__['x'], then type(a).\\__dict__['x'], and continuing through the base classes of type(a) excluding metaclasses. However, \n",
      "if the looked-up value is an object defining one of the descriptor methods, then Python may override the default behavior and invoke the \n",
      "descriptor method instead.\n",
      "\n",
      "In this case, the Message object on instantiation creates a _value attribute, on which the \\__set__ method stores the secret message. \n",
      "\n",
      "Let's make this Message descriptor a property of another class, instantiate the parent class and assign a message to the message attribute.\n"
     ]
    },
    {
     "cell_type": "code",
     "collapsed": false,
     "input": [
      "class EthanHunt(object):\n",
      "    message = Message()\n",
      "\n",
      "hunt = EthanHunt()\n",
      "hunt.message = \"John Woo uses way too many doves in his movies\"    "
     ],
     "language": "python",
     "metadata": {},
     "outputs": [],
     "prompt_number": 49
    },
    {
     "cell_type": "markdown",
     "metadata": {},
     "source": [
      "###Question:\n",
      "What happens when I try to access the message?"
     ]
    },
    {
     "cell_type": "code",
     "collapsed": false,
     "input": [
      "start = datetime.now()\n",
      "while (datetime.now() - start).seconds < 6.1:\n",
      "    print hunt.message\n",
      "    sleep(1)"
     ],
     "language": "python",
     "metadata": {},
     "outputs": [
      {
       "output_type": "stream",
       "stream": "stdout",
       "text": [
        "This message will self destruct in 5 seconds.\n",
        "John Woo uses way too many doves in his movies\n",
        "John Woo uses way too many doves in his movies"
       ]
      },
      {
       "output_type": "stream",
       "stream": "stdout",
       "text": [
        "\n",
        "John Woo uses way too many doves in his movies"
       ]
      },
      {
       "output_type": "stream",
       "stream": "stdout",
       "text": [
        "\n",
        "John Woo uses way too many doves in his movies"
       ]
      },
      {
       "output_type": "stream",
       "stream": "stdout",
       "text": [
        "\n",
        "John Woo uses way too many doves in his movies"
       ]
      },
      {
       "output_type": "stream",
       "stream": "stdout",
       "text": [
        "\n",
        "John Woo uses way too many doves in his movies"
       ]
      },
      {
       "output_type": "stream",
       "stream": "stdout",
       "text": [
        "\n",
        "\n",
        "     _.-^^---....,,--\n",
        " _--                  --_\n",
        "<                        >)\n",
        "|                         |\n",
        " \\._                   _./\n",
        "    ```--. . , ; .--'''\n",
        "          | |   |\n",
        "       .-=||  | |=-.\n",
        "       `-=#$%&%$#=-'\n",
        "          | ;  :|\n",
        " _____.,-#%&$@%#&#~,._____ "
       ]
      },
      {
       "output_type": "stream",
       "stream": "stdout",
       "text": [
        "\n"
       ]
      }
     ],
     "prompt_number": 50
    },
    {
     "cell_type": "markdown",
     "metadata": {},
     "source": [
      "<img src = \"http://madsenworld.dk/anigif/bars/dynamite.gif\">\n",
      "\n",
      "However, something about that implementation is worrisome ... worrisome, that is, if we lose sleep over the consistancy of toy objects.  "
     ]
    },
    {
     "cell_type": "code",
     "collapsed": false,
     "input": [
      "class Luther(object):\n",
      "    def recover(self, agent):\n",
      "        try:\n",
      "            if type(agent) == type: print agent.__dict__['message'].__dict__['_value']\n",
      "            else: print type(agent).__dict__['message'].__dict__['_value']\n",
      "        except KeyError as error:\n",
      "            print \"Dict has no key: \" + str(error)\n",
      "luther = Luther()\n",
      "luther.recover(hunt)"
     ],
     "language": "python",
     "metadata": {},
     "outputs": [
      {
       "output_type": "stream",
       "stream": "stdout",
       "text": [
        "John Woo uses way too many doves in his movies\n"
       ]
      }
     ],
     "prompt_number": 51
    },
    {
     "cell_type": "markdown",
     "metadata": {},
     "source": [
      "As we can see, Luther can still recover the message from the **hunt** object. He does this by using the object's \\__dict__ attribute to access the message object (which can't be accessed directly because it is a descriptor) and uses the message object's \\__dict__ attribute to access the **_value** attribute where the message is stored.\n",
      "\n",
      "Now, if I *really* wanted the secret message destroyed, I could have used the \\__get__ method to delete it once the timer expired. But that would undermine the narrative arc of my presentation. \n",
      "\n",
      "Besides, it gets worse:"
     ]
    },
    {
     "cell_type": "code",
     "collapsed": false,
     "input": [
      "luther.recover(EthanHunt)"
     ],
     "language": "python",
     "metadata": {},
     "outputs": [
      {
       "output_type": "stream",
       "stream": "stdout",
       "text": [
        "John Woo uses way too many doves in his movies\n"
       ]
      }
     ],
     "prompt_number": 52
    },
    {
     "cell_type": "markdown",
     "metadata": {},
     "source": [
      "It turns out that, not only is the message still accessible on the instantiated **hunt** object, it's even accessible through the **EthanHunt** class. This is possible because the message is stored in the message object, which is attached to the **EthanHunt** class. \n",
      "This would seem to undermine the traditional OOP class / instance distinction.\n",
      "...\n",
      "\n",
      "If only there were some *other* way to make sure that Luther couldn't recover the message."
     ]
    },
    {
     "cell_type": "markdown",
     "metadata": {},
     "source": [
      "##Metaclasses \u017for fun and pro$it ##\n"
     ]
    },
    {
     "cell_type": "markdown",
     "metadata": {},
     "source": [
      "\n",
      "\n",
      "\n",
      "If a class is a set of instructions for the machine to make an instance object, a metaclass is a set of instructions for the machine to make a class object. Python's primary class creation routine is the **type** object. \n",
      "The **type** is a callable object requiring three parameters: A name, a tuple of bases, and a dictionary of attributes."
     ]
    },
    {
     "cell_type": "code",
     "collapsed": false,
     "input": [
      "Klass = type(\"Peter\", (list,), {'key': 'value'})\n",
      "print \"The class repr is: \" + repr(Klass)\n",
      "print \"The class bases are: \" + str(Klass.__bases__)\n",
      "print \"The class attribute hash is: \" + str({k:v for k, v in Klass.__dict__.items() if k[:2] != '__'}) \n"
     ],
     "language": "python",
     "metadata": {},
     "outputs": []
    },
    {
     "cell_type": "markdown",
     "metadata": {},
     "source": [
      "The Peter class is identical to one that was defined thus:\n",
      "\n",
      "\n",
      "\n"
     ]
    },
    {
     "cell_type": "code",
     "collapsed": false,
     "input": [
      "class Peter(list):\n",
      "    key = 'value'"
     ],
     "language": "python",
     "metadata": {},
     "outputs": []
    },
    {
     "cell_type": "markdown",
     "metadata": {},
     "source": [
      "This can be useful if you need to create your classes on the fly. A metaclass can be any callable object that is referenced by a class' \\__metaclass\\__ attribute and which returns a new class. What's more, the metaclass can interfere with or direct operations at various stages of class creation or instantiation"
     ]
    },
    {
     "cell_type": "code",
     "collapsed": false,
     "input": [
      "class IMF(type):\n",
      "    def __new__(meta, name, bases, attrs):\n",
      "        attrs['key'] = 'value'\n",
      "        return super(IMF, meta).__new__(meta, name, bases, attrs)\n",
      "\n",
      "    def __init__(cls, name, bases, attrs):\n",
      "        cls.new_key = \"new_value\"\n",
      "\n",
      "    def __call__(cls, *args, **kwargs):\n",
      "        instance = super(IMF, cls).__call__(*args, **kwargs)\n",
      "        instance.key3 = \"value 3\"\n",
      "        return instance\n",
      "    \n",
      "class EthanHunt(object):\n",
      "    __metaclass__ = IMF\n",
      "    message = Message()\n",
      "\n",
      "print EthanHunt.key\n",
      "print EthanHunt.new_key\n",
      "hunt = EthanHunt()\n",
      "print hunt.key3"
     ],
     "language": "python",
     "metadata": {},
     "outputs": []
    },
    {
     "cell_type": "markdown",
     "metadata": {},
     "source": [
      "<div style=\"float:right;padding-left:100px\"><img src = \"http://4.bp.blogspot.com/-vId133dL4Ic/TtM_fxHX9JI/AAAAAAAAHoc/0_uc7PqO2K4/s400/Mission+Impossible+Jim+Phelps+briefing+6+tape+recorder+self+destructs.png\"></div>\n",
      "\n",
      "So, now that we've developed some intuitions about how class creation and object instantiation proceed in python, let's see if we can find a way to make the message unretrievable by Luther both on the **EthanHunt** class, as well as the **hunt** object.\n",
      "\n"
     ]
    },
    {
     "cell_type": "code",
     "collapsed": false,
     "input": [
      "class IMF(type):\n",
      "    attributes = []\n",
      "    def __new__(meta, name, bases, attrs):\n",
      "        mess_attr, message = None, None\n",
      "        for n in attrs:\n",
      "            if isinstance(attrs[n], Message):\n",
      "                mess_attr, message = n, attrs.pop(n)\n",
      "                break\n",
      "        def get_(obj, att_name):\n",
      "            if att_name == mess_attr: return message.__get__(obj, None)\n",
      "            else: return getattr(obj, att_name)\n",
      "        def set_(obj, att_name, val):\n",
      "            if att_name == mess_attr: return message.__set__(obj, val)\n",
      "            else: return setattr(obj, att_name, val)\n",
      "        attrs['__getattr__'] = get_\n",
      "        attrs['__setattr__'] = set_\n",
      "        return super(IMF, meta).__new__(meta, name, bases, attrs)\n",
      "\n",
      "class EthanHunt(object):\n",
      "    __metaclass__ = IMF\n",
      "    message = Message()\n",
      "\n",
      "hunt = EthanHunt()\n",
      "hunt.message = \"John Woo uses way too many doves in his movies\"\n",
      "    "
     ],
     "language": "python",
     "metadata": {},
     "outputs": [],
     "prompt_number": 53
    },
    {
     "cell_type": "markdown",
     "metadata": {},
     "source": [
      "And just to make sure the self-detonating message works the same way as before, we'll go through the detonation loop. "
     ]
    },
    {
     "cell_type": "code",
     "collapsed": false,
     "input": [
      "start = datetime.now()\n",
      "while (datetime.now() - start).seconds < 6.1:\n",
      "    print hunt.message\n",
      "    sleep(1)"
     ],
     "language": "python",
     "metadata": {},
     "outputs": [
      {
       "output_type": "stream",
       "stream": "stdout",
       "text": [
        "This message will self destruct in 5 seconds.\n",
        "John Woo uses way too many doves in his movies\n",
        "John Woo uses way too many doves in his movies"
       ]
      },
      {
       "output_type": "stream",
       "stream": "stdout",
       "text": [
        "\n",
        "John Woo uses way too many doves in his movies"
       ]
      },
      {
       "output_type": "stream",
       "stream": "stdout",
       "text": [
        "\n",
        "John Woo uses way too many doves in his movies"
       ]
      },
      {
       "output_type": "stream",
       "stream": "stdout",
       "text": [
        "\n",
        "John Woo uses way too many doves in his movies"
       ]
      },
      {
       "output_type": "stream",
       "stream": "stdout",
       "text": [
        "\n",
        "John Woo uses way too many doves in his movies"
       ]
      },
      {
       "output_type": "stream",
       "stream": "stdout",
       "text": [
        "\n",
        "\n",
        "     _.-^^---....,,--\n",
        " _--                  --_\n",
        "<                        >)\n",
        "|                         |\n",
        " \\._                   _./\n",
        "    ```--. . , ; .--'''\n",
        "          | |   |\n",
        "       .-=||  | |=-.\n",
        "       `-=#$%&%$#=-'\n",
        "          | ;  :|\n",
        " _____.,-#%&$@%#&#~,._____ "
       ]
      },
      {
       "output_type": "stream",
       "stream": "stdout",
       "text": [
        "\n"
       ]
      }
     ],
     "prompt_number": 54
    },
    {
     "cell_type": "markdown",
     "metadata": {},
     "source": [
      "Now, what happens when Luther tries to access it?"
     ]
    },
    {
     "cell_type": "code",
     "collapsed": false,
     "input": [
      "luther = Luther()\n",
      "luther.recover(hunt)"
     ],
     "language": "python",
     "metadata": {},
     "outputs": [
      {
       "output_type": "stream",
       "stream": "stdout",
       "text": [
        "Dict has no key: 'message'\n"
       ]
      }
     ],
     "prompt_number": 55
    },
    {
     "cell_type": "markdown",
     "metadata": {},
     "source": [
      "The trick here is that, before the class object was even created in memory, I popped off the message instance and created two closures, get_ and set_ which are called by the soon-to-be class's \\__getattr__ and \\__setattr__ methods. The closures contain the **only** reference to the message object, and if my descriptor logic makes it impossible to access the message's value, then it is impossible to otherwise access it."
     ]
    },
    {
     "cell_type": "code",
     "collapsed": false,
     "input": [
      "boom = \"\"\"\n",
      "     _.-^^---....,,--\n",
      " _--                  --_\n",
      "<                        >)\n",
      "|                         |\n",
      " \\._                   _./\n",
      "    ```--. . , ; .--'''\n",
      "          | |   |\n",
      "       .-=||  | |=-.\n",
      "       `-=#$%&%$#=-'\n",
      "          | ;  :|\n",
      " _____.,-#%&$@%#&#~,._____ \"\"\"\n"
     ],
     "language": "python",
     "metadata": {},
     "outputs": [],
     "prompt_number": 46
    },
    {
     "cell_type": "code",
     "collapsed": false,
     "input": [],
     "language": "python",
     "metadata": {},
     "outputs": []
    }
   ],
   "metadata": {}
  }
 ]
}